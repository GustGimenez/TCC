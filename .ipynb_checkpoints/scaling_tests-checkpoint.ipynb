{
 "cells": [
  {
   "cell_type": "code",
   "execution_count": 1,
   "metadata": {},
   "outputs": [],
   "source": [
    "import pandas as pd\n",
    "from sklearn import model_selection\n",
    "from sklearn import svm\n",
    "from sklearn.preprocessing import StandardScaler\n",
    "from xgboost import XGBClassifier"
   ]
  },
  {
   "cell_type": "code",
   "execution_count": 2,
   "metadata": {},
   "outputs": [],
   "source": [
    "dataset = pd.read_csv('./unified.csv')"
   ]
  },
  {
   "cell_type": "code",
   "execution_count": 3,
   "metadata": {},
   "outputs": [],
   "source": [
    "every_feature = [\n",
    "    'Estacao',\n",
    "    'TempMaxima',\n",
    "    'TempMinima',\n",
    "    'Insolacao',\n",
    "    'Evaporacao_Piche',\n",
    "    'Temp_Comp_Media',\n",
    "    'Umidade_Relativa_Media',\n",
    "    'Velocidade_do_Vento_Media',\n",
    "    'D1',\n",
    "    'D2',\n",
    "    'D3',\n",
    "    'D4'\n",
    "]\n",
    "\n",
    "selected_features = [\n",
    "    'TempMaxima',\n",
    "    'TempMinima',\n",
    "    'Insolacao',\n",
    "    'Evaporacao_Piche',\n",
    "    'Temp_Comp_Media',\n",
    "    'Umidade_Relativa_Media',\n",
    "    'Velocidade_do_Vento_Media'\n",
    "]"
   ]
  },
  {
   "cell_type": "code",
   "execution_count": 4,
   "metadata": {},
   "outputs": [],
   "source": [
    "svc_model = svm.SVC()\n",
    "xgb_model = XGBClassifier()\n",
    "\n",
    "sc = StandardScaler()"
   ]
  },
  {
   "cell_type": "code",
   "execution_count": 5,
   "metadata": {},
   "outputs": [],
   "source": [
    "x_every_feature = sc.fit_transform(dataset[every_feature])\n",
    "x_select_features = sc.fit_transform(dataset[selected_features])\n",
    "\n",
    "y = dataset['Precipitacao'].values"
   ]
  },
  {
   "cell_type": "code",
   "execution_count": 6,
   "metadata": {},
   "outputs": [],
   "source": [
    "kfold_3 = model_selection.KFold(n_splits=3, shuffle=True)\n",
    "kfold_5 = model_selection.KFold(n_splits=5, shuffle=True)\n",
    "kfold_10 = model_selection.KFold(n_splits=10, shuffle=True)"
   ]
  },
  {
   "cell_type": "code",
   "execution_count": 7,
   "metadata": {
    "collapsed": true
   },
   "outputs": [
    {
     "name": "stderr",
     "output_type": "stream",
     "text": [
      "/home/gustavo/anaconda3/envs/prototipo/lib/python3.6/site-packages/sklearn/svm/base.py:193: FutureWarning: The default value of gamma will change from 'auto' to 'scale' in version 0.22 to account better for unscaled features. Set gamma explicitly to 'auto' or 'scale' to avoid this warning.\n",
      "  \"avoid this warning.\", FutureWarning)\n",
      "/home/gustavo/anaconda3/envs/prototipo/lib/python3.6/site-packages/sklearn/svm/base.py:193: FutureWarning: The default value of gamma will change from 'auto' to 'scale' in version 0.22 to account better for unscaled features. Set gamma explicitly to 'auto' or 'scale' to avoid this warning.\n",
      "  \"avoid this warning.\", FutureWarning)\n",
      "/home/gustavo/anaconda3/envs/prototipo/lib/python3.6/site-packages/sklearn/svm/base.py:193: FutureWarning: The default value of gamma will change from 'auto' to 'scale' in version 0.22 to account better for unscaled features. Set gamma explicitly to 'auto' or 'scale' to avoid this warning.\n",
      "  \"avoid this warning.\", FutureWarning)\n",
      "/home/gustavo/anaconda3/envs/prototipo/lib/python3.6/site-packages/sklearn/svm/base.py:193: FutureWarning: The default value of gamma will change from 'auto' to 'scale' in version 0.22 to account better for unscaled features. Set gamma explicitly to 'auto' or 'scale' to avoid this warning.\n",
      "  \"avoid this warning.\", FutureWarning)\n",
      "/home/gustavo/anaconda3/envs/prototipo/lib/python3.6/site-packages/sklearn/svm/base.py:193: FutureWarning: The default value of gamma will change from 'auto' to 'scale' in version 0.22 to account better for unscaled features. Set gamma explicitly to 'auto' or 'scale' to avoid this warning.\n",
      "  \"avoid this warning.\", FutureWarning)\n",
      "/home/gustavo/anaconda3/envs/prototipo/lib/python3.6/site-packages/sklearn/svm/base.py:193: FutureWarning: The default value of gamma will change from 'auto' to 'scale' in version 0.22 to account better for unscaled features. Set gamma explicitly to 'auto' or 'scale' to avoid this warning.\n",
      "  \"avoid this warning.\", FutureWarning)\n",
      "/home/gustavo/anaconda3/envs/prototipo/lib/python3.6/site-packages/sklearn/svm/base.py:193: FutureWarning: The default value of gamma will change from 'auto' to 'scale' in version 0.22 to account better for unscaled features. Set gamma explicitly to 'auto' or 'scale' to avoid this warning.\n",
      "  \"avoid this warning.\", FutureWarning)\n",
      "/home/gustavo/anaconda3/envs/prototipo/lib/python3.6/site-packages/sklearn/svm/base.py:193: FutureWarning: The default value of gamma will change from 'auto' to 'scale' in version 0.22 to account better for unscaled features. Set gamma explicitly to 'auto' or 'scale' to avoid this warning.\n",
      "  \"avoid this warning.\", FutureWarning)\n",
      "/home/gustavo/anaconda3/envs/prototipo/lib/python3.6/site-packages/sklearn/svm/base.py:193: FutureWarning: The default value of gamma will change from 'auto' to 'scale' in version 0.22 to account better for unscaled features. Set gamma explicitly to 'auto' or 'scale' to avoid this warning.\n",
      "  \"avoid this warning.\", FutureWarning)\n",
      "/home/gustavo/anaconda3/envs/prototipo/lib/python3.6/site-packages/sklearn/svm/base.py:193: FutureWarning: The default value of gamma will change from 'auto' to 'scale' in version 0.22 to account better for unscaled features. Set gamma explicitly to 'auto' or 'scale' to avoid this warning.\n",
      "  \"avoid this warning.\", FutureWarning)\n",
      "/home/gustavo/anaconda3/envs/prototipo/lib/python3.6/site-packages/sklearn/svm/base.py:193: FutureWarning: The default value of gamma will change from 'auto' to 'scale' in version 0.22 to account better for unscaled features. Set gamma explicitly to 'auto' or 'scale' to avoid this warning.\n",
      "  \"avoid this warning.\", FutureWarning)\n",
      "/home/gustavo/anaconda3/envs/prototipo/lib/python3.6/site-packages/sklearn/svm/base.py:193: FutureWarning: The default value of gamma will change from 'auto' to 'scale' in version 0.22 to account better for unscaled features. Set gamma explicitly to 'auto' or 'scale' to avoid this warning.\n",
      "  \"avoid this warning.\", FutureWarning)\n",
      "/home/gustavo/anaconda3/envs/prototipo/lib/python3.6/site-packages/sklearn/svm/base.py:193: FutureWarning: The default value of gamma will change from 'auto' to 'scale' in version 0.22 to account better for unscaled features. Set gamma explicitly to 'auto' or 'scale' to avoid this warning.\n",
      "  \"avoid this warning.\", FutureWarning)\n",
      "/home/gustavo/anaconda3/envs/prototipo/lib/python3.6/site-packages/sklearn/svm/base.py:193: FutureWarning: The default value of gamma will change from 'auto' to 'scale' in version 0.22 to account better for unscaled features. Set gamma explicitly to 'auto' or 'scale' to avoid this warning.\n",
      "  \"avoid this warning.\", FutureWarning)\n",
      "/home/gustavo/anaconda3/envs/prototipo/lib/python3.6/site-packages/sklearn/svm/base.py:193: FutureWarning: The default value of gamma will change from 'auto' to 'scale' in version 0.22 to account better for unscaled features. Set gamma explicitly to 'auto' or 'scale' to avoid this warning.\n",
      "  \"avoid this warning.\", FutureWarning)\n",
      "/home/gustavo/anaconda3/envs/prototipo/lib/python3.6/site-packages/sklearn/svm/base.py:193: FutureWarning: The default value of gamma will change from 'auto' to 'scale' in version 0.22 to account better for unscaled features. Set gamma explicitly to 'auto' or 'scale' to avoid this warning.\n",
      "  \"avoid this warning.\", FutureWarning)\n",
      "/home/gustavo/anaconda3/envs/prototipo/lib/python3.6/site-packages/sklearn/svm/base.py:193: FutureWarning: The default value of gamma will change from 'auto' to 'scale' in version 0.22 to account better for unscaled features. Set gamma explicitly to 'auto' or 'scale' to avoid this warning.\n",
      "  \"avoid this warning.\", FutureWarning)\n",
      "/home/gustavo/anaconda3/envs/prototipo/lib/python3.6/site-packages/sklearn/svm/base.py:193: FutureWarning: The default value of gamma will change from 'auto' to 'scale' in version 0.22 to account better for unscaled features. Set gamma explicitly to 'auto' or 'scale' to avoid this warning.\n",
      "  \"avoid this warning.\", FutureWarning)\n",
      "/home/gustavo/anaconda3/envs/prototipo/lib/python3.6/site-packages/sklearn/svm/base.py:193: FutureWarning: The default value of gamma will change from 'auto' to 'scale' in version 0.22 to account better for unscaled features. Set gamma explicitly to 'auto' or 'scale' to avoid this warning.\n",
      "  \"avoid this warning.\", FutureWarning)\n",
      "/home/gustavo/anaconda3/envs/prototipo/lib/python3.6/site-packages/sklearn/svm/base.py:193: FutureWarning: The default value of gamma will change from 'auto' to 'scale' in version 0.22 to account better for unscaled features. Set gamma explicitly to 'auto' or 'scale' to avoid this warning.\n",
      "  \"avoid this warning.\", FutureWarning)\n",
      "/home/gustavo/anaconda3/envs/prototipo/lib/python3.6/site-packages/sklearn/svm/base.py:193: FutureWarning: The default value of gamma will change from 'auto' to 'scale' in version 0.22 to account better for unscaled features. Set gamma explicitly to 'auto' or 'scale' to avoid this warning.\n",
      "  \"avoid this warning.\", FutureWarning)\n",
      "/home/gustavo/anaconda3/envs/prototipo/lib/python3.6/site-packages/sklearn/svm/base.py:193: FutureWarning: The default value of gamma will change from 'auto' to 'scale' in version 0.22 to account better for unscaled features. Set gamma explicitly to 'auto' or 'scale' to avoid this warning.\n",
      "  \"avoid this warning.\", FutureWarning)\n",
      "/home/gustavo/anaconda3/envs/prototipo/lib/python3.6/site-packages/sklearn/svm/base.py:193: FutureWarning: The default value of gamma will change from 'auto' to 'scale' in version 0.22 to account better for unscaled features. Set gamma explicitly to 'auto' or 'scale' to avoid this warning.\n",
      "  \"avoid this warning.\", FutureWarning)\n",
      "/home/gustavo/anaconda3/envs/prototipo/lib/python3.6/site-packages/sklearn/svm/base.py:193: FutureWarning: The default value of gamma will change from 'auto' to 'scale' in version 0.22 to account better for unscaled features. Set gamma explicitly to 'auto' or 'scale' to avoid this warning.\n",
      "  \"avoid this warning.\", FutureWarning)\n",
      "/home/gustavo/anaconda3/envs/prototipo/lib/python3.6/site-packages/sklearn/svm/base.py:193: FutureWarning: The default value of gamma will change from 'auto' to 'scale' in version 0.22 to account better for unscaled features. Set gamma explicitly to 'auto' or 'scale' to avoid this warning.\n",
      "  \"avoid this warning.\", FutureWarning)\n"
     ]
    },
    {
     "name": "stderr",
     "output_type": "stream",
     "text": [
      "/home/gustavo/anaconda3/envs/prototipo/lib/python3.6/site-packages/sklearn/svm/base.py:193: FutureWarning: The default value of gamma will change from 'auto' to 'scale' in version 0.22 to account better for unscaled features. Set gamma explicitly to 'auto' or 'scale' to avoid this warning.\n",
      "  \"avoid this warning.\", FutureWarning)\n",
      "/home/gustavo/anaconda3/envs/prototipo/lib/python3.6/site-packages/sklearn/svm/base.py:193: FutureWarning: The default value of gamma will change from 'auto' to 'scale' in version 0.22 to account better for unscaled features. Set gamma explicitly to 'auto' or 'scale' to avoid this warning.\n",
      "  \"avoid this warning.\", FutureWarning)\n",
      "/home/gustavo/anaconda3/envs/prototipo/lib/python3.6/site-packages/sklearn/svm/base.py:193: FutureWarning: The default value of gamma will change from 'auto' to 'scale' in version 0.22 to account better for unscaled features. Set gamma explicitly to 'auto' or 'scale' to avoid this warning.\n",
      "  \"avoid this warning.\", FutureWarning)\n",
      "/home/gustavo/anaconda3/envs/prototipo/lib/python3.6/site-packages/sklearn/svm/base.py:193: FutureWarning: The default value of gamma will change from 'auto' to 'scale' in version 0.22 to account better for unscaled features. Set gamma explicitly to 'auto' or 'scale' to avoid this warning.\n",
      "  \"avoid this warning.\", FutureWarning)\n",
      "/home/gustavo/anaconda3/envs/prototipo/lib/python3.6/site-packages/sklearn/svm/base.py:193: FutureWarning: The default value of gamma will change from 'auto' to 'scale' in version 0.22 to account better for unscaled features. Set gamma explicitly to 'auto' or 'scale' to avoid this warning.\n",
      "  \"avoid this warning.\", FutureWarning)\n",
      "/home/gustavo/anaconda3/envs/prototipo/lib/python3.6/site-packages/sklearn/svm/base.py:193: FutureWarning: The default value of gamma will change from 'auto' to 'scale' in version 0.22 to account better for unscaled features. Set gamma explicitly to 'auto' or 'scale' to avoid this warning.\n",
      "  \"avoid this warning.\", FutureWarning)\n",
      "/home/gustavo/anaconda3/envs/prototipo/lib/python3.6/site-packages/sklearn/svm/base.py:193: FutureWarning: The default value of gamma will change from 'auto' to 'scale' in version 0.22 to account better for unscaled features. Set gamma explicitly to 'auto' or 'scale' to avoid this warning.\n",
      "  \"avoid this warning.\", FutureWarning)\n",
      "/home/gustavo/anaconda3/envs/prototipo/lib/python3.6/site-packages/sklearn/svm/base.py:193: FutureWarning: The default value of gamma will change from 'auto' to 'scale' in version 0.22 to account better for unscaled features. Set gamma explicitly to 'auto' or 'scale' to avoid this warning.\n",
      "  \"avoid this warning.\", FutureWarning)\n",
      "/home/gustavo/anaconda3/envs/prototipo/lib/python3.6/site-packages/sklearn/svm/base.py:193: FutureWarning: The default value of gamma will change from 'auto' to 'scale' in version 0.22 to account better for unscaled features. Set gamma explicitly to 'auto' or 'scale' to avoid this warning.\n",
      "  \"avoid this warning.\", FutureWarning)\n",
      "/home/gustavo/anaconda3/envs/prototipo/lib/python3.6/site-packages/sklearn/svm/base.py:193: FutureWarning: The default value of gamma will change from 'auto' to 'scale' in version 0.22 to account better for unscaled features. Set gamma explicitly to 'auto' or 'scale' to avoid this warning.\n",
      "  \"avoid this warning.\", FutureWarning)\n",
      "/home/gustavo/anaconda3/envs/prototipo/lib/python3.6/site-packages/sklearn/svm/base.py:193: FutureWarning: The default value of gamma will change from 'auto' to 'scale' in version 0.22 to account better for unscaled features. Set gamma explicitly to 'auto' or 'scale' to avoid this warning.\n",
      "  \"avoid this warning.\", FutureWarning)\n"
     ]
    },
    {
     "ename": "NameError",
     "evalue": "name 'xgboost_model' is not defined",
     "output_type": "error",
     "traceback": [
      "\u001b[0;31m---------------------------------------------------------------------------\u001b[0m",
      "\u001b[0;31mNameError\u001b[0m                                 Traceback (most recent call last)",
      "\u001b[0;32m<ipython-input-7-d8f2d05bc557>\u001b[0m in \u001b[0;36m<module>\u001b[0;34m\u001b[0m\n\u001b[1;32m      9\u001b[0m \u001b[0;34m\u001b[0m\u001b[0m\n\u001b[1;32m     10\u001b[0m \u001b[0;34m\u001b[0m\u001b[0m\n\u001b[0;32m---> 11\u001b[0;31m \u001b[0mevery_feature_xgb_kfold_3_results\u001b[0m \u001b[0;34m=\u001b[0m \u001b[0mmodel_selection\u001b[0m\u001b[0;34m.\u001b[0m\u001b[0mcross_val_score\u001b[0m\u001b[0;34m(\u001b[0m\u001b[0mxgboost_model\u001b[0m\u001b[0;34m,\u001b[0m \u001b[0mx_every_feature\u001b[0m\u001b[0;34m,\u001b[0m \u001b[0my\u001b[0m\u001b[0;34m,\u001b[0m \u001b[0mcv\u001b[0m\u001b[0;34m=\u001b[0m\u001b[0mkfold_3\u001b[0m\u001b[0;34m)\u001b[0m\u001b[0;34m\u001b[0m\u001b[0;34m\u001b[0m\u001b[0m\n\u001b[0m\u001b[1;32m     12\u001b[0m \u001b[0mselected_features_xgb_kfold_3_results\u001b[0m \u001b[0;34m=\u001b[0m \u001b[0mmodel_selection\u001b[0m\u001b[0;34m.\u001b[0m\u001b[0mcross_val_score\u001b[0m\u001b[0;34m(\u001b[0m\u001b[0mxgboost_model\u001b[0m\u001b[0;34m,\u001b[0m \u001b[0mx_select_features\u001b[0m\u001b[0;34m,\u001b[0m \u001b[0my\u001b[0m\u001b[0;34m,\u001b[0m \u001b[0mcv\u001b[0m\u001b[0;34m=\u001b[0m\u001b[0mkfold_3\u001b[0m\u001b[0;34m)\u001b[0m\u001b[0;34m\u001b[0m\u001b[0;34m\u001b[0m\u001b[0m\n\u001b[1;32m     13\u001b[0m \u001b[0;34m\u001b[0m\u001b[0m\n",
      "\u001b[0;31mNameError\u001b[0m: name 'xgboost_model' is not defined"
     ]
    }
   ],
   "source": [
    "every_feature_svc_kfold_3_results = model_selection.cross_val_score(svc_model, x_every_feature, y, cv=kfold_3)\n",
    "selected_features_svc_kfold_3_results = model_selection.cross_val_score(svc_model, x_select_features, y, cv=kfold_3)\n",
    "\n",
    "every_feature_svc_kfold_5_results = model_selection.cross_val_score(svc_model, x_every_feature, y, cv=kfold_5)\n",
    "selected_features_svc_kfold_5_results = model_selection.cross_val_score(svc_model, x_select_features, y, cv=kfold_5)\n",
    "\n",
    "every_feature_svc_kfold_10_results = model_selection.cross_val_score(svc_model, x_every_feature, y, cv=kfold_10)\n",
    "selected_features_svc_kfold_10_results = model_selection.cross_val_score(svc_model, x_select_features, y, cv=kfold_10)"
   ]
  },
  {
   "cell_type": "code",
   "execution_count": 8,
   "metadata": {},
   "outputs": [
    {
     "name": "stdout",
     "output_type": "stream",
     "text": [
      "80.31662779681956\n",
      "0.012723622522369424\n",
      "79.47968267482818\n",
      "0.1301722292489841\n",
      "80.36992341624068\n",
      "0.20496258003066173\n",
      "79.52289281459142\n",
      "0.3359114581030046\n",
      "80.34688410291608\n",
      "0.6265253743997637\n",
      "79.50848595838713\n",
      "0.24080414303607198\n"
     ]
    }
   ],
   "source": [
    "print(every_feature_svc_kfold_3_results.mean() * 100.0)\n",
    "print(every_feature_svc_kfold_3_results.std() * 100.0)\n",
    "\n",
    "print(selected_features_svc_kfold_3_results.mean() * 100.0)\n",
    "print(selected_features_svc_kfold_3_results.std() * 100.0)\n",
    "\n",
    "print(every_feature_svc_kfold_5_results.mean() * 100.0)\n",
    "print(every_feature_svc_kfold_5_results.std() * 100.0)\n",
    "\n",
    "print(selected_features_svc_kfold_5_results.mean() * 100.0)\n",
    "print(selected_features_svc_kfold_5_results.std() * 100.0)\n",
    "\n",
    "print(every_feature_svc_kfold_10_results.mean() * 100.0)\n",
    "print(every_feature_svc_kfold_10_results.std() * 100.0)\n",
    "\n",
    "print(selected_features_svc_kfold_10_results.mean() * 100.0)\n",
    "print(selected_features_svc_kfold_10_results.std() * 100.0)"
   ]
  },
  {
   "cell_type": "code",
   "execution_count": 7,
   "metadata": {},
   "outputs": [],
   "source": [
    "every_feature_xgb_kfold_3_results = model_selection.cross_val_score(xgb_model, x_every_feature, y, cv=kfold_3)\n",
    "selected_features_xgb_kfold_3_results = model_selection.cross_val_score(xgb_model, x_select_features, y, cv=kfold_3)\n",
    "\n",
    "every_feature_xgb_kfold_5_results = model_selection.cross_val_score(xgb_model, x_every_feature, y, cv=kfold_5)\n",
    "selected_features_xgb_kfold_5_results = model_selection.cross_val_score(xgb_model, x_select_features, y, cv=kfold_5)\n",
    "\n",
    "every_feature_xgb_kfold_10_results = model_selection.cross_val_score(xgb_model, x_every_feature, y, cv=kfold_10)\n",
    "selected_features_xgb_kfold_10_results = model_selection.cross_val_score(xgb_model, x_select_features, y, cv=kfold_10)"
   ]
  },
  {
   "cell_type": "code",
   "execution_count": 8,
   "metadata": {},
   "outputs": [
    {
     "name": "stdout",
     "output_type": "stream",
     "text": [
      "80.0818213487616\n",
      "0.21396285813750038\n",
      "79.5329837394089\n",
      "0.17147565285393387\n",
      "80.10631166214301\n",
      "0.13978312964331674\n",
      "79.53873974112128\n",
      "0.2967189824062368\n",
      "80.13079704473782\n",
      "0.6739608240143333\n",
      "79.51136510468051\n",
      "0.4929818366552464\n"
     ]
    }
   ],
   "source": [
    "print(every_feature_xgb_kfold_3_results.mean() * 100.0)\n",
    "print(every_feature_xgb_kfold_3_results.std() * 100.0)\n",
    "\n",
    "print(selected_features_xgb_kfold_3_results.mean() * 100.0)\n",
    "print(selected_features_xgb_kfold_3_results.std() * 100.0)\n",
    "\n",
    "print(every_feature_xgb_kfold_5_results.mean() * 100.0)\n",
    "print(every_feature_xgb_kfold_5_results.std() * 100.0)\n",
    "\n",
    "print(selected_features_xgb_kfold_5_results.mean() * 100.0)\n",
    "print(selected_features_xgb_kfold_5_results.std() * 100.0)\n",
    "\n",
    "print(every_feature_xgb_kfold_10_results.mean() * 100.0)\n",
    "print(every_feature_xgb_kfold_10_results.std() * 100.0)\n",
    "\n",
    "print(selected_features_xgb_kfold_10_results.mean() * 100.0)\n",
    "print(selected_features_xgb_kfold_10_results.std() * 100.0)"
   ]
  }
 ],
 "metadata": {
  "kernelspec": {
   "display_name": "Python 3",
   "language": "python",
   "name": "python3"
  },
  "language_info": {
   "codemirror_mode": {
    "name": "ipython",
    "version": 3
   },
   "file_extension": ".py",
   "mimetype": "text/x-python",
   "name": "python",
   "nbconvert_exporter": "python",
   "pygments_lexer": "ipython3",
   "version": "3.6.8"
  }
 },
 "nbformat": 4,
 "nbformat_minor": 2
}
