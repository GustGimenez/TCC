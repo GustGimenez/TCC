{
 "cells": [
  {
   "cell_type": "code",
   "execution_count": 1,
   "metadata": {},
   "outputs": [],
   "source": [
    "import pandas as pd\n",
    "from sklearn import model_selection\n",
    "from sklearn import svm\n",
    "from xgboost import XGBClassifier"
   ]
  },
  {
   "cell_type": "code",
   "execution_count": 6,
   "metadata": {},
   "outputs": [
    {
     "data": {
      "text/html": [
       "<div>\n",
       "<style scoped>\n",
       "    .dataframe tbody tr th:only-of-type {\n",
       "        vertical-align: middle;\n",
       "    }\n",
       "\n",
       "    .dataframe tbody tr th {\n",
       "        vertical-align: top;\n",
       "    }\n",
       "\n",
       "    .dataframe thead th {\n",
       "        text-align: right;\n",
       "    }\n",
       "</style>\n",
       "<table border=\"1\" class=\"dataframe\">\n",
       "  <thead>\n",
       "    <tr style=\"text-align: right;\">\n",
       "      <th></th>\n",
       "      <th>Estacao</th>\n",
       "      <th>Precipitacao</th>\n",
       "      <th>TempMaxima</th>\n",
       "      <th>TempMinima</th>\n",
       "      <th>Insolacao</th>\n",
       "      <th>Evaporacao_Piche</th>\n",
       "      <th>Temp_Comp_Media</th>\n",
       "      <th>Umidade_Relativa_Media</th>\n",
       "      <th>Velocidade_do_Vento_Media</th>\n",
       "      <th>D1</th>\n",
       "      <th>D2</th>\n",
       "      <th>D3</th>\n",
       "      <th>D4</th>\n",
       "    </tr>\n",
       "  </thead>\n",
       "  <tbody>\n",
       "    <tr>\n",
       "      <th>0</th>\n",
       "      <td>83836</td>\n",
       "      <td>0</td>\n",
       "      <td>29.0</td>\n",
       "      <td>18.9</td>\n",
       "      <td>7.1</td>\n",
       "      <td>3.2</td>\n",
       "      <td>22.22</td>\n",
       "      <td>74.25</td>\n",
       "      <td>2.133333</td>\n",
       "      <td>0</td>\n",
       "      <td>0</td>\n",
       "      <td>1</td>\n",
       "      <td>0</td>\n",
       "    </tr>\n",
       "    <tr>\n",
       "      <th>1</th>\n",
       "      <td>83836</td>\n",
       "      <td>0</td>\n",
       "      <td>23.8</td>\n",
       "      <td>7.1</td>\n",
       "      <td>8.8</td>\n",
       "      <td>2.4</td>\n",
       "      <td>13.40</td>\n",
       "      <td>75.25</td>\n",
       "      <td>0.866667</td>\n",
       "      <td>1</td>\n",
       "      <td>0</td>\n",
       "      <td>0</td>\n",
       "      <td>0</td>\n",
       "    </tr>\n",
       "    <tr>\n",
       "      <th>2</th>\n",
       "      <td>83836</td>\n",
       "      <td>0</td>\n",
       "      <td>21.7</td>\n",
       "      <td>3.0</td>\n",
       "      <td>8.8</td>\n",
       "      <td>0.6</td>\n",
       "      <td>10.58</td>\n",
       "      <td>90.50</td>\n",
       "      <td>2.200000</td>\n",
       "      <td>0</td>\n",
       "      <td>1</td>\n",
       "      <td>0</td>\n",
       "      <td>0</td>\n",
       "    </tr>\n",
       "    <tr>\n",
       "      <th>3</th>\n",
       "      <td>83836</td>\n",
       "      <td>0</td>\n",
       "      <td>30.2</td>\n",
       "      <td>14.6</td>\n",
       "      <td>9.4</td>\n",
       "      <td>2.2</td>\n",
       "      <td>20.56</td>\n",
       "      <td>76.75</td>\n",
       "      <td>1.000000</td>\n",
       "      <td>1</td>\n",
       "      <td>0</td>\n",
       "      <td>0</td>\n",
       "      <td>0</td>\n",
       "    </tr>\n",
       "    <tr>\n",
       "      <th>4</th>\n",
       "      <td>83836</td>\n",
       "      <td>0</td>\n",
       "      <td>14.9</td>\n",
       "      <td>-2.8</td>\n",
       "      <td>8.8</td>\n",
       "      <td>2.6</td>\n",
       "      <td>6.66</td>\n",
       "      <td>76.00</td>\n",
       "      <td>2.133333</td>\n",
       "      <td>0</td>\n",
       "      <td>1</td>\n",
       "      <td>0</td>\n",
       "      <td>0</td>\n",
       "    </tr>\n",
       "  </tbody>\n",
       "</table>\n",
       "</div>"
      ],
      "text/plain": [
       "   Estacao  Precipitacao  TempMaxima  TempMinima  Insolacao  Evaporacao_Piche  \\\n",
       "0    83836             0        29.0        18.9        7.1               3.2   \n",
       "1    83836             0        23.8         7.1        8.8               2.4   \n",
       "2    83836             0        21.7         3.0        8.8               0.6   \n",
       "3    83836             0        30.2        14.6        9.4               2.2   \n",
       "4    83836             0        14.9        -2.8        8.8               2.6   \n",
       "\n",
       "   Temp_Comp_Media  Umidade_Relativa_Media  Velocidade_do_Vento_Media  D1  D2  \\\n",
       "0            22.22                   74.25                   2.133333   0   0   \n",
       "1            13.40                   75.25                   0.866667   1   0   \n",
       "2            10.58                   90.50                   2.200000   0   1   \n",
       "3            20.56                   76.75                   1.000000   1   0   \n",
       "4             6.66                   76.00                   2.133333   0   1   \n",
       "\n",
       "   D3  D4  \n",
       "0   1   0  \n",
       "1   0   0  \n",
       "2   0   0  \n",
       "3   0   0  \n",
       "4   0   0  "
      ]
     },
     "execution_count": 6,
     "metadata": {},
     "output_type": "execute_result"
    }
   ],
   "source": [
    "dataset = pd.read_csv('./unified.csv')\n",
    "dataset.head(5)"
   ]
  },
  {
   "cell_type": "code",
   "execution_count": 8,
   "metadata": {},
   "outputs": [],
   "source": [
    "y = dataset['Precipitacao'].values"
   ]
  },
  {
   "cell_type": "code",
   "execution_count": 10,
   "metadata": {},
   "outputs": [],
   "source": [
    "dataset.drop(['Precipitacao'], axis=1, inplace=True)\n",
    "x = dataset.values"
   ]
  },
  {
   "cell_type": "code",
   "execution_count": 13,
   "metadata": {},
   "outputs": [],
   "source": [
    "kfold_3 = model_selection.KFold(n_splits=3, shuffle=True)\n",
    "kfold_5 = model_selection.KFold(n_splits=5, shuffle=True)\n",
    "kfold_10 = model_selection.KFold(n_splits=10, shuffle=True)\n",
    "\n",
    "svc_model = svm.SVC()"
   ]
  },
  {
   "cell_type": "code",
   "execution_count": 18,
   "metadata": {
    "collapsed": true
   },
   "outputs": [
    {
     "name": "stderr",
     "output_type": "stream",
     "text": [
      "/home/gustavo/anaconda3/envs/prototipo/lib/python3.6/site-packages/sklearn/svm/base.py:193: FutureWarning: The default value of gamma will change from 'auto' to 'scale' in version 0.22 to account better for unscaled features. Set gamma explicitly to 'auto' or 'scale' to avoid this warning.\n",
      "  \"avoid this warning.\", FutureWarning)\n",
      "/home/gustavo/anaconda3/envs/prototipo/lib/python3.6/site-packages/sklearn/svm/base.py:193: FutureWarning: The default value of gamma will change from 'auto' to 'scale' in version 0.22 to account better for unscaled features. Set gamma explicitly to 'auto' or 'scale' to avoid this warning.\n",
      "  \"avoid this warning.\", FutureWarning)\n",
      "/home/gustavo/anaconda3/envs/prototipo/lib/python3.6/site-packages/sklearn/svm/base.py:193: FutureWarning: The default value of gamma will change from 'auto' to 'scale' in version 0.22 to account better for unscaled features. Set gamma explicitly to 'auto' or 'scale' to avoid this warning.\n",
      "  \"avoid this warning.\", FutureWarning)\n",
      "/home/gustavo/anaconda3/envs/prototipo/lib/python3.6/site-packages/sklearn/svm/base.py:193: FutureWarning: The default value of gamma will change from 'auto' to 'scale' in version 0.22 to account better for unscaled features. Set gamma explicitly to 'auto' or 'scale' to avoid this warning.\n",
      "  \"avoid this warning.\", FutureWarning)\n",
      "/home/gustavo/anaconda3/envs/prototipo/lib/python3.6/site-packages/sklearn/svm/base.py:193: FutureWarning: The default value of gamma will change from 'auto' to 'scale' in version 0.22 to account better for unscaled features. Set gamma explicitly to 'auto' or 'scale' to avoid this warning.\n",
      "  \"avoid this warning.\", FutureWarning)\n",
      "/home/gustavo/anaconda3/envs/prototipo/lib/python3.6/site-packages/sklearn/svm/base.py:193: FutureWarning: The default value of gamma will change from 'auto' to 'scale' in version 0.22 to account better for unscaled features. Set gamma explicitly to 'auto' or 'scale' to avoid this warning.\n",
      "  \"avoid this warning.\", FutureWarning)\n",
      "/home/gustavo/anaconda3/envs/prototipo/lib/python3.6/site-packages/sklearn/svm/base.py:193: FutureWarning: The default value of gamma will change from 'auto' to 'scale' in version 0.22 to account better for unscaled features. Set gamma explicitly to 'auto' or 'scale' to avoid this warning.\n",
      "  \"avoid this warning.\", FutureWarning)\n",
      "/home/gustavo/anaconda3/envs/prototipo/lib/python3.6/site-packages/sklearn/svm/base.py:193: FutureWarning: The default value of gamma will change from 'auto' to 'scale' in version 0.22 to account better for unscaled features. Set gamma explicitly to 'auto' or 'scale' to avoid this warning.\n",
      "  \"avoid this warning.\", FutureWarning)\n",
      "/home/gustavo/anaconda3/envs/prototipo/lib/python3.6/site-packages/sklearn/svm/base.py:193: FutureWarning: The default value of gamma will change from 'auto' to 'scale' in version 0.22 to account better for unscaled features. Set gamma explicitly to 'auto' or 'scale' to avoid this warning.\n",
      "  \"avoid this warning.\", FutureWarning)\n",
      "/home/gustavo/anaconda3/envs/prototipo/lib/python3.6/site-packages/sklearn/svm/base.py:193: FutureWarning: The default value of gamma will change from 'auto' to 'scale' in version 0.22 to account better for unscaled features. Set gamma explicitly to 'auto' or 'scale' to avoid this warning.\n",
      "  \"avoid this warning.\", FutureWarning)\n",
      "/home/gustavo/anaconda3/envs/prototipo/lib/python3.6/site-packages/sklearn/svm/base.py:193: FutureWarning: The default value of gamma will change from 'auto' to 'scale' in version 0.22 to account better for unscaled features. Set gamma explicitly to 'auto' or 'scale' to avoid this warning.\n",
      "  \"avoid this warning.\", FutureWarning)\n",
      "/home/gustavo/anaconda3/envs/prototipo/lib/python3.6/site-packages/sklearn/svm/base.py:193: FutureWarning: The default value of gamma will change from 'auto' to 'scale' in version 0.22 to account better for unscaled features. Set gamma explicitly to 'auto' or 'scale' to avoid this warning.\n",
      "  \"avoid this warning.\", FutureWarning)\n",
      "/home/gustavo/anaconda3/envs/prototipo/lib/python3.6/site-packages/sklearn/svm/base.py:193: FutureWarning: The default value of gamma will change from 'auto' to 'scale' in version 0.22 to account better for unscaled features. Set gamma explicitly to 'auto' or 'scale' to avoid this warning.\n",
      "  \"avoid this warning.\", FutureWarning)\n",
      "/home/gustavo/anaconda3/envs/prototipo/lib/python3.6/site-packages/sklearn/svm/base.py:193: FutureWarning: The default value of gamma will change from 'auto' to 'scale' in version 0.22 to account better for unscaled features. Set gamma explicitly to 'auto' or 'scale' to avoid this warning.\n",
      "  \"avoid this warning.\", FutureWarning)\n",
      "/home/gustavo/anaconda3/envs/prototipo/lib/python3.6/site-packages/sklearn/svm/base.py:193: FutureWarning: The default value of gamma will change from 'auto' to 'scale' in version 0.22 to account better for unscaled features. Set gamma explicitly to 'auto' or 'scale' to avoid this warning.\n",
      "  \"avoid this warning.\", FutureWarning)\n",
      "/home/gustavo/anaconda3/envs/prototipo/lib/python3.6/site-packages/sklearn/svm/base.py:193: FutureWarning: The default value of gamma will change from 'auto' to 'scale' in version 0.22 to account better for unscaled features. Set gamma explicitly to 'auto' or 'scale' to avoid this warning.\n",
      "  \"avoid this warning.\", FutureWarning)\n",
      "/home/gustavo/anaconda3/envs/prototipo/lib/python3.6/site-packages/sklearn/svm/base.py:193: FutureWarning: The default value of gamma will change from 'auto' to 'scale' in version 0.22 to account better for unscaled features. Set gamma explicitly to 'auto' or 'scale' to avoid this warning.\n",
      "  \"avoid this warning.\", FutureWarning)\n",
      "/home/gustavo/anaconda3/envs/prototipo/lib/python3.6/site-packages/sklearn/svm/base.py:193: FutureWarning: The default value of gamma will change from 'auto' to 'scale' in version 0.22 to account better for unscaled features. Set gamma explicitly to 'auto' or 'scale' to avoid this warning.\n",
      "  \"avoid this warning.\", FutureWarning)\n"
     ]
    }
   ],
   "source": [
    "svc_kfold_3_results = model_selection.cross_val_score(svc_model, x, y, cv=kfold_3)\n",
    "svc_kfold_5_results = model_selection.cross_val_score(svc_model, x, y, cv=kfold_5)\n",
    "svc_kfold_10_results = model_selection.cross_val_score(svc_model, x, y, cv=kfold_10)"
   ]
  },
  {
   "cell_type": "code",
   "execution_count": 19,
   "metadata": {},
   "outputs": [
    {
     "name": "stdout",
     "output_type": "stream",
     "text": [
      "78.31429428619785\n",
      "0.012835518978054395\n",
      "78.61680381003585\n",
      "0.24311106708049332\n",
      "78.88329178255992\n",
      "0.53756558989662\n"
     ]
    }
   ],
   "source": [
    "print(svc_kfold_3_results.mean()*100.0)\n",
    "print(svc_kfold_3_results.std()*100.0)\n",
    "\n",
    "print(svc_kfold_5_results.mean()*100.0)\n",
    "print(svc_kfold_5_results.std()*100.0)\n",
    "\n",
    "print(svc_kfold_10_results.mean()*100.0)\n",
    "print(svc_kfold_10_results.std()*100.0)"
   ]
  },
  {
   "cell_type": "code",
   "execution_count": 2,
   "metadata": {},
   "outputs": [],
   "source": [
    "xgboost_model = XGBClassifier()"
   ]
  },
  {
   "cell_type": "code",
   "execution_count": null,
   "metadata": {},
   "outputs": [],
   "source": [
    "xgb_kfold_3_results = model_selection.cross_val_score(xgboost_model, x, y, cv=kfold_3)\n",
    "xgb_kfold_5_results = model_selection.cross_val_score(xgboost_model, x, y, cv=kfold_5)\n",
    "xgb_kfold_10_results = model_selection.cross_val_score(xgboost_model, x, y, cv=kfold_10)"
   ]
  },
  {
   "cell_type": "code",
   "execution_count": null,
   "metadata": {},
   "outputs": [],
   "source": [
    "print(svc_kfold_3_results.mean()*100.0)\n",
    "print(svc_kfold_3_results.std()*100.0)\n",
    "\n",
    "print(svc_kfold_5_results.mean()*100.0)\n",
    "print(svc_kfold_5_results.std()*100.0)\n",
    "\n",
    "print(svc_kfold_10_results.mean()*100.0)\n",
    "print(svc_kfold_10_results.std()*100.0)"
   ]
  }
 ],
 "metadata": {
  "kernelspec": {
   "display_name": "Python 3",
   "language": "python",
   "name": "python3"
  },
  "language_info": {
   "codemirror_mode": {
    "name": "ipython",
    "version": 3
   },
   "file_extension": ".py",
   "mimetype": "text/x-python",
   "name": "python",
   "nbconvert_exporter": "python",
   "pygments_lexer": "ipython3",
   "version": "3.6.8"
  }
 },
 "nbformat": 4,
 "nbformat_minor": 2
}
