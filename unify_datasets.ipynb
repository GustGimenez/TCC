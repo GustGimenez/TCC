{
 "cells": [
  {
   "cell_type": "markdown",
   "metadata": {},
   "source": [
    "Unifying Datasets Remote\n",
    "========"
   ]
  },
  {
   "cell_type": "code",
   "execution_count": 1,
   "metadata": {},
   "outputs": [],
   "source": [
    "import pandas as pd\n",
    "import numpy as np\n",
    "from glob import glob"
   ]
  },
  {
   "cell_type": "code",
   "execution_count": 2,
   "metadata": {},
   "outputs": [],
   "source": [
    "files = glob('../inmet_datasets/*.csv')"
   ]
  },
  {
   "cell_type": "code",
   "execution_count": 3,
   "metadata": {},
   "outputs": [],
   "source": [
    "# replaces every ';' with ',' and ' ' with '_', and creates a new file\n",
    "\n",
    "def rewrite_file(file_name):\n",
    "    with open('../pre-processed_datasets/' + file_name.split('datasets/')[1], 'w') as new_file:\n",
    "        with open(file_name, 'r+') as file:            \n",
    "            for line in file:\n",
    "                line = line.replace(';', ',')\n",
    "                line = line.replace(' ', '_')\n",
    "                line = line[: -2]\n",
    "                \n",
    "                new_file.write(line + '\\n')\n",
    "        \n",
    "            file.close()\n",
    "        \n",
    "        new_file.close()\n",
    "        "
   ]
  },
  {
   "cell_type": "code",
   "execution_count": 4,
   "metadata": {},
   "outputs": [],
   "source": [
    "def merge_rows (dataset):\n",
    "    \"\"\"\"\n",
    "    Function responsible for normalizing the dataset\n",
    "    \n",
    "    It receives a pandas dataframe, and, for each row where the column 'Hora' is 1200,\n",
    "    it takes the 'Precipitacao' and 'TempMinima' columns and puts its values on the\n",
    "    row above, for it does not have such values (NaN value).\n",
    "    \"\"\"\n",
    "    for index, row in dataset.iterrows():\n",
    "        if row.loc['Hora'] == 1200:\n",
    "            precipitacao = row.loc['Precipitacao']\n",
    "            temp_minima = row.loc['TempMinima']\n",
    "\n",
    "            dataset.at[index - 1, 'Precipitacao'] = precipitacao\n",
    "            dataset.at[index - 1, 'TempMinima'] = temp_minima"
   ]
  },
  {
   "cell_type": "code",
   "execution_count": 11,
   "metadata": {},
   "outputs": [],
   "source": [
    "def precipitation_rate(dataset, min_len):\n",
    "    r0 = len(dataset[dataset['Precipitacao'] == 0])\n",
    "    r1 = len(dataset[dataset['Precipitacao'] == 1])\n",
    "    \n",
    "    r0 = r0/min_len\n",
    "    r1 = r1/min_len\n",
    "    \n",
    "    print(r0)\n",
    "    print(r1)\n",
    "    \n",
    "    df0 = dataset[dataset['Precipitacao'] == 0].sample(frac=r0)\n",
    "    df1 = dataset[dataset['Precipitacao'] == 1].sample(frac=r1)\n",
    "    \n",
    "    return pd.merge(df0, df1, on=['Estacao', 'Data', 'Hora', 'Precipitacao', 'TempMaxima', 'TempMinima', 'Insolacao', 'Evaporacao_Piche', 'Temp_Comp_Media', 'Umidade_Relativa_Media', 'Velocidade_do_Vento_Media'], how='outer')"
   ]
  },
  {
   "cell_type": "code",
   "execution_count": 6,
   "metadata": {},
   "outputs": [],
   "source": [
    "dataset_min_len = []\n",
    "\n",
    "for file in files:\n",
    "    rewrite_file(file)\n",
    "    \n",
    "    csv_file = pd.read_csv('../pre-processed_datasets/' + file.split('datasets/')[1])\n",
    "    \n",
    "    dates = csv_file['Data'].unique()\n",
    "    \n",
    "    # deleting unique dates\n",
    "    for date in dates:\n",
    "        if (len(csv_file[csv_file['Data'] == str(date)]) < 2):\n",
    "            csv_file = csv_file[csv_file['Data'] != str(date)]\n",
    "    \n",
    "    # enconding 'Precipitacao' into 0 or 1\n",
    "    csv_file['Precipitacao'] = csv_file['Precipitacao'].apply(lambda x: 1 if x > 0 else 0)\n",
    "    \n",
    "    merge_rows(csv_file)\n",
    "    \n",
    "    csv_file.dropna(how='any', inplace=True)\n",
    "    \n",
    "    dataset_min_len.append(len(csv_file))\n",
    "    \n",
    "    # saving file\n",
    "    csv_file.to_csv('../pre-processed_datasets/' + file.split('datasets/')[1], index=False)"
   ]
  },
  {
   "cell_type": "code",
   "execution_count": 8,
   "metadata": {},
   "outputs": [],
   "source": [
    "unified = pd.DataFrame(columns=['Estacao', 'Data', 'Hora', 'Precipitacao', 'TempMaxima', 'TempMinima', 'Insolacao', 'Evaporacao_Piche', 'Temp_Comp_Media', 'Umidade_Relativa_Media', 'Velocidade_do_Vento_Media'])"
   ]
  },
  {
   "cell_type": "code",
   "execution_count": 12,
   "metadata": {},
   "outputs": [
    {
     "name": "stdout",
     "output_type": "stream",
     "text": [
      "inf\n",
      "inf\n"
     ]
    },
    {
     "name": "stderr",
     "output_type": "stream",
     "text": [
      "/home/gustavo/anaconda3/envs/prototipo/lib/python3.6/site-packages/ipykernel_launcher.py:5: RuntimeWarning: divide by zero encountered in long_scalars\n",
      "  \"\"\"\n",
      "/home/gustavo/anaconda3/envs/prototipo/lib/python3.6/site-packages/ipykernel_launcher.py:6: RuntimeWarning: divide by zero encountered in long_scalars\n",
      "  \n"
     ]
    },
    {
     "ename": "OverflowError",
     "evalue": "cannot convert float infinity to integer",
     "output_type": "error",
     "traceback": [
      "\u001b[0;31m---------------------------------------------------------------------------\u001b[0m",
      "\u001b[0;31mOverflowError\u001b[0m                             Traceback (most recent call last)",
      "\u001b[0;32m<ipython-input-12-59b42e930bbf>\u001b[0m in \u001b[0;36m<module>\u001b[0;34m\u001b[0m\n\u001b[1;32m      3\u001b[0m \u001b[0;32mfor\u001b[0m \u001b[0mfile\u001b[0m \u001b[0;32min\u001b[0m \u001b[0mfiles\u001b[0m\u001b[0;34m:\u001b[0m\u001b[0;34m\u001b[0m\u001b[0;34m\u001b[0m\u001b[0m\n\u001b[1;32m      4\u001b[0m     \u001b[0mcsv_file\u001b[0m \u001b[0;34m=\u001b[0m \u001b[0mpd\u001b[0m\u001b[0;34m.\u001b[0m\u001b[0mread_csv\u001b[0m\u001b[0;34m(\u001b[0m\u001b[0;34m'../pre-processed_datasets/'\u001b[0m \u001b[0;34m+\u001b[0m \u001b[0mfile\u001b[0m\u001b[0;34m.\u001b[0m\u001b[0msplit\u001b[0m\u001b[0;34m(\u001b[0m\u001b[0;34m'datasets/'\u001b[0m\u001b[0;34m)\u001b[0m\u001b[0;34m[\u001b[0m\u001b[0;36m1\u001b[0m\u001b[0;34m]\u001b[0m\u001b[0;34m)\u001b[0m\u001b[0;34m\u001b[0m\u001b[0;34m\u001b[0m\u001b[0m\n\u001b[0;32m----> 5\u001b[0;31m     \u001b[0mdataframe\u001b[0m \u001b[0;34m=\u001b[0m \u001b[0mprecipitation_rate\u001b[0m\u001b[0;34m(\u001b[0m\u001b[0mcsv_file\u001b[0m\u001b[0;34m,\u001b[0m \u001b[0mdataset_min_len\u001b[0m\u001b[0;34m)\u001b[0m\u001b[0;34m\u001b[0m\u001b[0;34m\u001b[0m\u001b[0m\n\u001b[0m\u001b[1;32m      6\u001b[0m     \u001b[0munified\u001b[0m \u001b[0;34m=\u001b[0m \u001b[0mpd\u001b[0m\u001b[0;34m.\u001b[0m\u001b[0mmerge\u001b[0m\u001b[0;34m(\u001b[0m\u001b[0munified\u001b[0m\u001b[0;34m,\u001b[0m \u001b[0mdataframe_file\u001b[0m\u001b[0;34m,\u001b[0m \u001b[0mon\u001b[0m\u001b[0;34m=\u001b[0m\u001b[0;34m[\u001b[0m\u001b[0;34m'Estacao'\u001b[0m\u001b[0;34m,\u001b[0m \u001b[0;34m'Data'\u001b[0m\u001b[0;34m,\u001b[0m \u001b[0;34m'Hora'\u001b[0m\u001b[0;34m,\u001b[0m \u001b[0;34m'Precipitacao'\u001b[0m\u001b[0;34m,\u001b[0m \u001b[0;34m'TempMaxima'\u001b[0m\u001b[0;34m,\u001b[0m \u001b[0;34m'TempMinima'\u001b[0m\u001b[0;34m,\u001b[0m \u001b[0;34m'Insolacao'\u001b[0m\u001b[0;34m,\u001b[0m \u001b[0;34m'Evaporacao_Piche'\u001b[0m\u001b[0;34m,\u001b[0m \u001b[0;34m'Temp_Comp_Media'\u001b[0m\u001b[0;34m,\u001b[0m \u001b[0;34m'Umidade_Relativa_Media'\u001b[0m\u001b[0;34m,\u001b[0m \u001b[0;34m'Velocidade_do_Vento_Media'\u001b[0m\u001b[0;34m]\u001b[0m\u001b[0;34m,\u001b[0m \u001b[0mhow\u001b[0m\u001b[0;34m=\u001b[0m\u001b[0;34m'outer'\u001b[0m\u001b[0;34m)\u001b[0m\u001b[0;34m\u001b[0m\u001b[0;34m\u001b[0m\u001b[0m\n",
      "\u001b[0;32m<ipython-input-11-16a255589a00>\u001b[0m in \u001b[0;36mprecipitation_rate\u001b[0;34m(dataset, min_len)\u001b[0m\n\u001b[1;32m      9\u001b[0m     \u001b[0mprint\u001b[0m\u001b[0;34m(\u001b[0m\u001b[0mr1\u001b[0m\u001b[0;34m)\u001b[0m\u001b[0;34m\u001b[0m\u001b[0;34m\u001b[0m\u001b[0m\n\u001b[1;32m     10\u001b[0m \u001b[0;34m\u001b[0m\u001b[0m\n\u001b[0;32m---> 11\u001b[0;31m     \u001b[0mdf0\u001b[0m \u001b[0;34m=\u001b[0m \u001b[0mdataset\u001b[0m\u001b[0;34m[\u001b[0m\u001b[0mdataset\u001b[0m\u001b[0;34m[\u001b[0m\u001b[0;34m'Precipitacao'\u001b[0m\u001b[0;34m]\u001b[0m \u001b[0;34m==\u001b[0m \u001b[0;36m0\u001b[0m\u001b[0;34m]\u001b[0m\u001b[0;34m.\u001b[0m\u001b[0msample\u001b[0m\u001b[0;34m(\u001b[0m\u001b[0mfrac\u001b[0m\u001b[0;34m=\u001b[0m\u001b[0mr0\u001b[0m\u001b[0;34m)\u001b[0m\u001b[0;34m\u001b[0m\u001b[0;34m\u001b[0m\u001b[0m\n\u001b[0m\u001b[1;32m     12\u001b[0m     \u001b[0mdf1\u001b[0m \u001b[0;34m=\u001b[0m \u001b[0mdataset\u001b[0m\u001b[0;34m[\u001b[0m\u001b[0mdataset\u001b[0m\u001b[0;34m[\u001b[0m\u001b[0;34m'Precipitacao'\u001b[0m\u001b[0;34m]\u001b[0m \u001b[0;34m==\u001b[0m \u001b[0;36m1\u001b[0m\u001b[0;34m]\u001b[0m\u001b[0;34m.\u001b[0m\u001b[0msample\u001b[0m\u001b[0;34m(\u001b[0m\u001b[0mfrac\u001b[0m\u001b[0;34m=\u001b[0m\u001b[0mr1\u001b[0m\u001b[0;34m)\u001b[0m\u001b[0;34m\u001b[0m\u001b[0;34m\u001b[0m\u001b[0m\n\u001b[1;32m     13\u001b[0m \u001b[0;34m\u001b[0m\u001b[0m\n",
      "\u001b[0;32m~/anaconda3/envs/prototipo/lib/python3.6/site-packages/pandas/core/generic.py\u001b[0m in \u001b[0;36msample\u001b[0;34m(self, n, frac, replace, weights, random_state, axis)\u001b[0m\n\u001b[1;32m   4853\u001b[0m             \u001b[0;32mraise\u001b[0m \u001b[0mValueError\u001b[0m\u001b[0;34m(\u001b[0m\u001b[0;34m\"Only integers accepted as `n` values\"\u001b[0m\u001b[0;34m)\u001b[0m\u001b[0;34m\u001b[0m\u001b[0;34m\u001b[0m\u001b[0m\n\u001b[1;32m   4854\u001b[0m         \u001b[0;32melif\u001b[0m \u001b[0mn\u001b[0m \u001b[0;32mis\u001b[0m \u001b[0;32mNone\u001b[0m \u001b[0;32mand\u001b[0m \u001b[0mfrac\u001b[0m \u001b[0;32mis\u001b[0m \u001b[0;32mnot\u001b[0m \u001b[0;32mNone\u001b[0m\u001b[0;34m:\u001b[0m\u001b[0;34m\u001b[0m\u001b[0;34m\u001b[0m\u001b[0m\n\u001b[0;32m-> 4855\u001b[0;31m             \u001b[0mn\u001b[0m \u001b[0;34m=\u001b[0m \u001b[0mint\u001b[0m\u001b[0;34m(\u001b[0m\u001b[0mround\u001b[0m\u001b[0;34m(\u001b[0m\u001b[0mfrac\u001b[0m \u001b[0;34m*\u001b[0m \u001b[0maxis_length\u001b[0m\u001b[0;34m)\u001b[0m\u001b[0;34m)\u001b[0m\u001b[0;34m\u001b[0m\u001b[0;34m\u001b[0m\u001b[0m\n\u001b[0m\u001b[1;32m   4856\u001b[0m         \u001b[0;32melif\u001b[0m \u001b[0mn\u001b[0m \u001b[0;32mis\u001b[0m \u001b[0;32mnot\u001b[0m \u001b[0;32mNone\u001b[0m \u001b[0;32mand\u001b[0m \u001b[0mfrac\u001b[0m \u001b[0;32mis\u001b[0m \u001b[0;32mnot\u001b[0m \u001b[0;32mNone\u001b[0m\u001b[0;34m:\u001b[0m\u001b[0;34m\u001b[0m\u001b[0;34m\u001b[0m\u001b[0m\n\u001b[1;32m   4857\u001b[0m             raise ValueError('Please enter a value for `frac` OR `n`, not '\n",
      "\u001b[0;31mOverflowError\u001b[0m: cannot convert float infinity to integer"
     ]
    }
   ],
   "source": [
    "dataset_min_len = np.amin(dataset_min_len)\n",
    "\n",
    "for file in files:\n",
    "    csv_file = pd.read_csv('../pre-processed_datasets/' + file.split('datasets/')[1])\n",
    "    dataframe = precipitation_rate(csv_file, dataset_min_len)\n",
    "    unified = pd.merge(unified, dataframe_file, on=['Estacao', 'Data', 'Hora', 'Precipitacao', 'TempMaxima', 'TempMinima', 'Insolacao', 'Evaporacao_Piche', 'Temp_Comp_Media', 'Umidade_Relativa_Media', 'Velocidade_do_Vento_Media'], how='outer')"
   ]
  },
  {
   "cell_type": "code",
   "execution_count": null,
   "metadata": {},
   "outputs": [],
   "source": [
    "# backup function\n",
    "\n",
    "# def unify_datasets():\n",
    "#     for file in files:\n",
    "#         file_name = '../pre-processed_dataset/' + file.split('datasets/')[1]\n",
    "#         dataframe_file = pd.read_csv(file_name)\n",
    "#         unified = pd.merge(unified, dataframe_file, on=['Estacao', 'Data', 'Hora', 'Precipitacao', 'TempMaxima', 'TempMinima', 'Insolacao', 'Evaporacao_Piche', 'Temp_Comp_Media', 'Umidade_Relativa_Media', 'Velocidade_do_Vento_Media'], how='outer')\n",
    "#     unified.to_csv('../unified.csv', index=False)"
   ]
  }
 ],
 "metadata": {
  "kernelspec": {
   "display_name": "Python 3",
   "language": "python",
   "name": "python3"
  },
  "language_info": {
   "codemirror_mode": {
    "name": "ipython",
    "version": 3
   },
   "file_extension": ".py",
   "mimetype": "text/x-python",
   "name": "python",
   "nbconvert_exporter": "python",
   "pygments_lexer": "ipython3",
   "version": "3.6.8"
  }
 },
 "nbformat": 4,
 "nbformat_minor": 2
}
