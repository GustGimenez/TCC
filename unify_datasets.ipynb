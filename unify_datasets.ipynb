{
 "cells": [
  {
   "cell_type": "markdown",
   "metadata": {},
   "source": [
    "Unifying Datasets Remote\n",
    "========"
   ]
  },
  {
   "cell_type": "code",
   "execution_count": 1,
   "metadata": {},
   "outputs": [],
   "source": [
    "import pandas as pd\n",
    "import numpy as np\n",
    "from glob import glob"
   ]
  },
  {
   "cell_type": "code",
   "execution_count": 2,
   "metadata": {},
   "outputs": [],
   "source": [
    "files = glob('../test_datasets/*.csv')"
   ]
  },
  {
   "cell_type": "code",
   "execution_count": 2,
   "metadata": {},
   "outputs": [],
   "source": [
    "# replaces every ';' with ',' and ' ' with '_', and creates a new file\n",
    "\n",
    "def rewrite_file(file_name):\n",
    "    with open('../pre-processed_datasets/' + file_name.split('datasets/')[1], 'w') as new_file:\n",
    "        with open(file_name, 'r+') as file:            \n",
    "            for line in file:\n",
    "                line = line.replace(';', ',')\n",
    "                line = line.replace(' ', '_')\n",
    "                line = line[: -2]\n",
    "                \n",
    "                new_file.write(line + '\\n')\n",
    "        \n",
    "            file.close()\n",
    "        \n",
    "        new_file.close()\n",
    "        "
   ]
  },
  {
   "cell_type": "code",
   "execution_count": 11,
   "metadata": {},
   "outputs": [],
   "source": [
    "def merge_rows (dataset):\n",
    "    \"\"\"\"\n",
    "    Function responsible for normalizing the dataset\n",
    "    \n",
    "    It receives a pandas dataframe, and, for each row where the column 'Hora' is 1200,\n",
    "    it takes the 'Precipitacao' and 'TempMinima' columns and puts its values on the\n",
    "    row above, for it does not have such values (NaN value).\n",
    "    \"\"\"\n",
    "    for index, row in dataset.iterrows():\n",
    "        if row.loc['Hora'] == 1200:\n",
    "            precipitacao = row.loc['Precipitacao']\n",
    "            temp_minima = row.loc['TempMinima']\n",
    "\n",
    "            dataset.at[index - 1, 'Precipitacao'] = precipitacao\n",
    "            dataset.at[index - 1, 'TempMinima'] = temp_minima"
   ]
  },
  {
   "cell_type": "code",
   "execution_count": null,
   "metadata": {},
   "outputs": [],
   "source": [
    "def precipitation_rate(dataset, min_len):\n",
    "    r0 = len(dataset[dataset['Precipitacao'] == 0])\n",
    "    r1 = len(dataset[dataset['Precipitacao'] == 1])\n",
    "    \n",
    "    r0 = r0/min_len\n",
    "    r1 = r1/min_len\n",
    "    \n",
    "    df0 = dataset[dataset['Precipitacao'] == 0].sample(frac=r0)\n",
    "    df1 = dataset[dataset['Precipitacao'] == 1].sample(frac=r1)\n",
    "    \n",
    "    return pd.merge(df0, df1, on=['Estacao', 'Data', 'Hora', 'Precipitacao', 'TempMaxima', 'TempMinima', 'Insolacao', 'Evaporacao_Piche', 'Temp_Comp_Media', 'Umidade_Relativa_Media', 'Velocidade_do_Vento_Media'], how='outer')"
   ]
  },
  {
   "cell_type": "code",
   "execution_count": 6,
   "metadata": {},
   "outputs": [],
   "source": [
    "dataset_min_len = []\n",
    "\n",
    "for file in files:\n",
    "    rewrite_file(file)\n",
    "    \n",
    "    csv_file = pd.read_csv('../pre-processed_datasets/' + file.split('datasets/')[1])\n",
    "    \n",
    "    dates = csv_file['Data'].unique()\n",
    "    \n",
    "    # deleting unique dates\n",
    "    for date in dates:\n",
    "        if (len(csv_file[csv_file['Data'] == str(date)]) < 2):\n",
    "            csv_file = csv_file[csv_file['Data'] != str(date)]\n",
    "    \n",
    "    # enconding 'Precipitacao' into 0 or 1\n",
    "    csv_file['Precipitacao'] = csv_file['Precipitacao'].apply(lambda x: 1 if x > 0 else 0)\n",
    "    \n",
    "    merge_rows(csv_file)\n",
    "    \n",
    "    csv_file.dropna(how='any', inplace=True)\n",
    "    \n",
    "    dataset_min_len.append(len(csv_file))\n",
    "    \n",
    "    # saving file\n",
    "    csv_file.to_csv('../pre-processed_datasets/' + file.split('datasets/')[1], index=False)"
   ]
  },
  {
   "cell_type": "code",
   "execution_count": null,
   "metadata": {},
   "outputs": [],
   "source": [
    "unified = pd.DataFrame(columns=['Estacao', 'Data', 'Hora', 'Precipitacao', 'TempMaxima', 'TempMinima', 'Insolacao', 'Evaporacao_Piche', 'Temp_Comp_Media', 'Umidade_Relativa_Media', 'Velocidade_do_Vento_Media'])"
   ]
  },
  {
   "cell_type": "code",
   "execution_count": null,
   "metadata": {},
   "outputs": [],
   "source": [
    "dataset_min_len = np.amin(dataset_min_len)\n",
    "\n",
    "for file in files:\n",
    "    csv_file = pd.read_csv('../pre-processed_datasets/' + file.split('datasets/')[1])\n",
    "    dataframe = precipitation_rate(csv_file)\n",
    "    unified = pd.merge(unified, dataframe_file, on=['Estacao', 'Data', 'Hora', 'Precipitacao', 'TempMaxima', 'TempMinima', 'Insolacao', 'Evaporacao_Piche', 'Temp_Comp_Media', 'Umidade_Relativa_Media', 'Velocidade_do_Vento_Media'], how='outer')"
   ]
  },
  {
   "cell_type": "code",
   "execution_count": null,
   "metadata": {},
   "outputs": [],
   "source": [
    "# backup function\n",
    "\n",
    "# def unify_datasets():\n",
    "#     for file in files:\n",
    "#         file_name = '../pre-processed_dataset/' + file.split('datasets/')[1]\n",
    "#         dataframe_file = pd.read_csv(file_name)\n",
    "#         unified = pd.merge(unified, dataframe_file, on=['Estacao', 'Data', 'Hora', 'Precipitacao', 'TempMaxima', 'TempMinima', 'Insolacao', 'Evaporacao_Piche', 'Temp_Comp_Media', 'Umidade_Relativa_Media', 'Velocidade_do_Vento_Media'], how='outer')\n",
    "#     unified.to_csv('../unified.csv', index=False)"
   ]
  }
 ],
 "metadata": {
  "kernelspec": {
   "display_name": "Python 3",
   "language": "python",
   "name": "python3"
  },
  "language_info": {
   "codemirror_mode": {
    "name": "ipython",
    "version": 3
   },
   "file_extension": ".py",
   "mimetype": "text/x-python",
   "name": "python",
   "nbconvert_exporter": "python",
   "pygments_lexer": "ipython3",
   "version": "3.6.8"
  }
 },
 "nbformat": 4,
 "nbformat_minor": 2
}
