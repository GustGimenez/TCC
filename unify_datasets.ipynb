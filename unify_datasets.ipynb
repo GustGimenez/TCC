{
 "cells": [
  {
   "cell_type": "markdown",
   "metadata": {},
   "source": [
    "Unifying Datasets Remote\n",
    "========"
   ]
  },
  {
   "cell_type": "code",
   "execution_count": 2,
   "metadata": {},
   "outputs": [],
   "source": [
    "import pandas as pd\n",
    "import numpy as np\n",
    "from glob import glob"
   ]
  },
  {
   "cell_type": "code",
   "execution_count": 3,
   "metadata": {},
   "outputs": [],
   "source": [
    "files = glob('../inmet_datasets/*.csv')"
   ]
  },
  {
   "cell_type": "code",
   "execution_count": 4,
   "metadata": {},
   "outputs": [],
   "source": [
    "# replaces every ';' with ',' and ' ' with '_', and creates a new file\n",
    "\n",
    "def rewrite_file(file_name):\n",
    "    with open('../pre-processed_datasets/' + file_name.split('datasets/')[1], 'w') as new_file:\n",
    "        with open(file_name, 'r+') as file:            \n",
    "            for line in file:\n",
    "                line = line.replace(';', ',')\n",
    "                line = line.replace(' ', '_')\n",
    "                line = line[: -2]\n",
    "                \n",
    "                new_file.write(line + '\\n')\n",
    "        \n",
    "            file.close()\n",
    "        \n",
    "        new_file.close()\n",
    "        "
   ]
  },
  {
   "cell_type": "code",
   "execution_count": 5,
   "metadata": {},
   "outputs": [],
   "source": [
    "def merge_rows (dataset):\n",
    "    \"\"\"\"\n",
    "    Function responsible for normalizing the dataset\n",
    "    \n",
    "    It receives a pandas dataframe, and, for each row where the column 'Hora' is 1200,\n",
    "    it takes the 'Precipitacao' and 'TempMinima' columns and puts its values on the\n",
    "    row above, for it does not have such values (NaN value).\n",
    "    \"\"\"\n",
    "    for index, row in dataset.iterrows():\n",
    "        if row.loc['Hora'] == 1200:\n",
    "            precipitacao = row.loc['Precipitacao']\n",
    "            temp_minima = row.loc['TempMinima']\n",
    "\n",
    "            dataset.at[index - 1, 'Precipitacao'] = precipitacao\n",
    "            dataset.at[index - 1, 'TempMinima'] = temp_minima"
   ]
  },
  {
   "cell_type": "code",
   "execution_count": 18,
   "metadata": {},
   "outputs": [],
   "source": [
    "def precipitation_rate(dataset, min_len):\n",
    "    r0 = len(dataset[dataset['Precipitacao'] == 0])\n",
    "    r1 = len(dataset[dataset['Precipitacao'] == 1])\n",
    "    \n",
    "    r0 = r0/len(dataset)\n",
    "    r1 = r1/len(dataset)\n",
    "    \n",
    "    n0 = int(round(r0 * min_len))\n",
    "    n1 = int(round(r1 * min_len))\n",
    "    \n",
    "    df0 = dataset[dataset['Precipitacao'] == 0].sample(n=n0)\n",
    "    df1 = dataset[dataset['Precipitacao'] == 1].sample(n=n1)\n",
    "    \n",
    "    return pd.merge(df0, df1, on=['Estacao', 'Data', 'Hora', 'Precipitacao', 'TempMaxima', 'TempMinima', 'Insolacao', 'Evaporacao_Piche', 'Temp_Comp_Media', 'Umidade_Relativa_Media', 'Velocidade_do_Vento_Media'], how='outer')"
   ]
  },
  {
   "cell_type": "code",
   "execution_count": 7,
   "metadata": {},
   "outputs": [],
   "source": [
    "dataset_min_len = []\n",
    "\n",
    "for file in files:\n",
    "    rewrite_file(file)\n",
    "    \n",
    "    csv_file = pd.read_csv('../pre-processed_datasets/' + file.split('datasets/')[1])\n",
    "    \n",
    "    dates = csv_file['Data'].unique()\n",
    "    \n",
    "    # deleting unique dates\n",
    "    for date in dates:\n",
    "        if (len(csv_file[csv_file['Data'] == str(date)]) < 2):\n",
    "            csv_file = csv_file[csv_file['Data'] != str(date)]\n",
    "    \n",
    "    # enconding 'Precipitacao' into 0 or 1\n",
    "    csv_file['Precipitacao'] = csv_file['Precipitacao'].apply(lambda x: 1 if x > 0 else 0)\n",
    "    \n",
    "    merge_rows(csv_file)\n",
    "    \n",
    "    csv_file.dropna(how='any', inplace=True)\n",
    "    \n",
    "    dataset_min_len.append(len(csv_file))\n",
    "    \n",
    "    # saving file\n",
    "    csv_file.to_csv('../pre-processed_datasets/' + file.split('datasets/')[1], index=False)"
   ]
  },
  {
   "cell_type": "code",
   "execution_count": 13,
   "metadata": {},
   "outputs": [],
   "source": [
    "unified = pd.DataFrame(columns=['Estacao', 'Data', 'Hora', 'Precipitacao', 'TempMaxima', 'TempMinima', 'Insolacao', 'Evaporacao_Piche', 'Temp_Comp_Media', 'Umidade_Relativa_Media', 'Velocidade_do_Vento_Media'])"
   ]
  },
  {
   "cell_type": "code",
   "execution_count": 19,
   "metadata": {},
   "outputs": [],
   "source": [
    "dataset_min_len = np.amin(dataset_min_len)\n",
    "\n",
    "for file in files:\n",
    "    csv_file = pd.read_csv('../pre-processed_datasets/' + file.split('datasets/')[1])\n",
    "    dataframe = precipitation_rate(csv_file, dataset_min_len)\n",
    "    unified = pd.merge(unified, dataframe, on=['Estacao', 'Data', 'Hora', 'Precipitacao', 'TempMaxima', 'TempMinima', 'Insolacao', 'Evaporacao_Piche', 'Temp_Comp_Media', 'Umidade_Relativa_Media', 'Velocidade_do_Vento_Media'], how='outer')"
   ]
  },
  {
   "cell_type": "code",
   "execution_count": 23,
   "metadata": {},
   "outputs": [],
   "source": [
    "unified.to_csv('./unified.csv', index=False)"
   ]
  },
  {
   "cell_type": "code",
   "execution_count": null,
   "metadata": {},
   "outputs": [],
   "source": [
    "# backup function\n",
    "\n",
    "# def unify_datasets():\n",
    "#     for file in files:\n",
    "#         file_name = '../pre-processed_dataset/' + file.split('datasets/')[1]\n",
    "#         dataframe_file = pd.read_csv(file_name)\n",
    "#         unified = pd.merge(unified, dataframe_file, on=['Estacao', 'Data', 'Hora', 'Precipitacao', 'TempMaxima', 'TempMinima', 'Insolacao', 'Evaporacao_Piche', 'Temp_Comp_Media', 'Umidade_Relativa_Media', 'Velocidade_do_Vento_Media'], how='outer')\n",
    "#     unified.to_csv('../unified.csv', index=False)"
   ]
  },
  {
   "cell_type": "code",
   "execution_count": 14,
   "metadata": {},
   "outputs": [
    {
     "name": "stdout",
     "output_type": "stream",
     "text": [
      "[28740, 36771, 31269, 40249, 30144, 31370, 30700, 31951, 30751, 12978, 18168, 28501, 33749, 34123, 31622, 16674, 30010, 33849, 29063, 38121, 30070, 38502, 21928, 29894, 40723, 36465, 28175, 28283, 39678, 29986, 30885, 35220, 28882, 21458, 33951, 27718, 30536, 31308, 37844, 42142, 27513, 24909, 32743, 21390, 37695, 20362, 30891, 39155, 29034, 27347, 35490, 37178, 39479, 38833, 39241, 34788, 30486, 27898, 35862, 41983, 32558, 38033, 32168, 23221, 28942, 33210, 35201, 30293, 31131, 29919, 33161, 26683, 32921, 24262, 26242, 35500, 34521, 18015, 40411, 36279, 29168, 22248, 33703, 38070, 24202, 36193, 40734, 34800, 30081, 37177, 23323, 25994, 31829, 41531, 31298, 41868, 27708, 13287, 28873, 38937, 29747, 28875, 37338, 15316, 34068, 35635, 31200, 34513, 27635, 18180, 16450, 33133, 37484, 33550, 29014, 26243, 26581, 34203, 32400, 27966, 39070, 28635, 33047, 38638, 24987, 21939, 36199, 25196, 25783, 33268, 17079, 23407, 36201, 30232, 38517, 26153, 36671, 35382, 37045, 41725, 35251, 29856, 38201, 37035, 20271, 25245, 27748, 40523, 37186, 40898, 31579, 22100, 36834, 23745, 38187, 25078, 24869, 29773, 41918, 25958, 30817, 24897, 23688, 30371, 27214, 31591, 31168, 32611, 37003, 37926, 18803, 31955, 20542, 37785, 26426, 36477, 22558, 30008, 34776, 34370, 32532, 22381, 29177]\n"
     ]
    }
   ],
   "source": [
    "print(dataset_min_len)"
   ]
  },
  {
   "cell_type": "code",
   "execution_count": 15,
   "metadata": {},
   "outputs": [
    {
     "data": {
      "text/plain": [
       "12978"
      ]
     },
     "execution_count": 15,
     "metadata": {},
     "output_type": "execute_result"
    }
   ],
   "source": [
    "# smallest length\n",
    "\n",
    "np.amin(dataset_min_len)"
   ]
  }
 ],
 "metadata": {
  "kernelspec": {
   "display_name": "Python 3",
   "language": "python",
   "name": "python3"
  },
  "language_info": {
   "codemirror_mode": {
    "name": "ipython",
    "version": 3
   },
   "file_extension": ".py",
   "mimetype": "text/x-python",
   "name": "python",
   "nbconvert_exporter": "python",
   "pygments_lexer": "ipython3",
   "version": "3.6.8"
  }
 },
 "nbformat": 4,
 "nbformat_minor": 2
}
