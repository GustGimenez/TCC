{
 "cells": [
  {
   "cell_type": "markdown",
   "metadata": {},
   "source": [
    "Dummy Varibles\n",
    "========"
   ]
  },
  {
   "cell_type": "code",
   "execution_count": 11,
   "metadata": {},
   "outputs": [],
   "source": [
    "import pandas as pd"
   ]
  },
  {
   "cell_type": "code",
   "execution_count": 28,
   "metadata": {},
   "outputs": [],
   "source": [
    "# based on the date informed, returns the correspondent season: \n",
    "# 'Outono' => [1,0,0,0], 'Inverno' => [0,1,0,0], 'Primavera' => [0,0,1,0], 'Verão' => [0,0,0,1]\n",
    "# date example: 1979-10-25 => [0,0,1,0]\n",
    "\n",
    "def which_season(date):\n",
    "    # Returns a binary array, representing the dummy variable\n",
    "    \n",
    "    date_info = date.split('-')\n",
    "    day = date_info[2]\n",
    "    month = date_info[1]\n",
    "    \n",
    "    if is_outono(month, day):\n",
    "        return [1,0,0,0]\n",
    "    elif is_inverno(month, day):\n",
    "        return [0,1,0,0]\n",
    "    elif is_verao(month, day):\n",
    "        return [0,0,0,1]\n",
    "    elif is_primavera(month, day):\n",
    "        return [0,0,1,0]\n",
    "    \n",
    "    return None   "
   ]
  },
  {
   "cell_type": "code",
   "execution_count": 21,
   "metadata": {},
   "outputs": [],
   "source": [
    "# auxiliar function to classify the date\n",
    "\n",
    "def is_outono(month, day):\n",
    "    if month >= 3 and month <= 6:\n",
    "        if month == 3:\n",
    "            return (day >= 20)\n",
    "        elif month == 6:\n",
    "            return (day <= 21)\n",
    "        else:\n",
    "            return True\n",
    "    else:\n",
    "        return False\n",
    "    \n",
    "def is_inverno(month, day):\n",
    "    if month >= 6 and month <= 9:\n",
    "        if month == 6:\n",
    "            return (day >= 22)\n",
    "        elif month == 9:\n",
    "            return (day <= 21)\n",
    "        else:\n",
    "            return True\n",
    "    else:\n",
    "        return False\n",
    "    \n",
    "def is_primavera(month, day):\n",
    "    if month >= 9 and month <= 12:\n",
    "        if month == 9:\n",
    "            return (day >= 22)\n",
    "        elif month == 12:\n",
    "            return (day <= 20)\n",
    "        else:\n",
    "            return True\n",
    "    else:\n",
    "        return False\n",
    "    \n",
    "def is_verao(month, day):\n",
    "    if month == 12:\n",
    "        return (day >= 21)\n",
    "    elif month <= 3:\n",
    "        return (day <= 19)\n",
    "    \n",
    "    return False"
   ]
  },
  {
   "cell_type": "code",
   "execution_count": 3,
   "metadata": {},
   "outputs": [],
   "source": [
    "csv_file = pd.read_csv('./unified.csv')"
   ]
  },
  {
   "cell_type": "code",
   "execution_count": 6,
   "metadata": {},
   "outputs": [
    {
     "data": {
      "text/html": [
       "<div>\n",
       "<style scoped>\n",
       "    .dataframe tbody tr th:only-of-type {\n",
       "        vertical-align: middle;\n",
       "    }\n",
       "\n",
       "    .dataframe tbody tr th {\n",
       "        vertical-align: top;\n",
       "    }\n",
       "\n",
       "    .dataframe thead th {\n",
       "        text-align: right;\n",
       "    }\n",
       "</style>\n",
       "<table border=\"1\" class=\"dataframe\">\n",
       "  <thead>\n",
       "    <tr style=\"text-align: right;\">\n",
       "      <th></th>\n",
       "      <th>Estacao</th>\n",
       "      <th>Data</th>\n",
       "      <th>Precipitacao</th>\n",
       "      <th>TempMaxima</th>\n",
       "      <th>TempMinima</th>\n",
       "      <th>Insolacao</th>\n",
       "      <th>Evaporacao_Piche</th>\n",
       "      <th>Temp_Comp_Media</th>\n",
       "      <th>Umidade_Relativa_Media</th>\n",
       "      <th>Velocidade_do_Vento_Media</th>\n",
       "    </tr>\n",
       "  </thead>\n",
       "  <tbody>\n",
       "    <tr>\n",
       "      <th>0</th>\n",
       "      <td>83249</td>\n",
       "      <td>1979-10-25</td>\n",
       "      <td>0</td>\n",
       "      <td>31.0</td>\n",
       "      <td>17.6</td>\n",
       "      <td>8.6</td>\n",
       "      <td>5.5</td>\n",
       "      <td>23.62</td>\n",
       "      <td>67.50</td>\n",
       "      <td>3.266667</td>\n",
       "    </tr>\n",
       "    <tr>\n",
       "      <th>1</th>\n",
       "      <td>83249</td>\n",
       "      <td>1999-08-14</td>\n",
       "      <td>0</td>\n",
       "      <td>28.7</td>\n",
       "      <td>15.9</td>\n",
       "      <td>9.6</td>\n",
       "      <td>3.6</td>\n",
       "      <td>21.92</td>\n",
       "      <td>77.25</td>\n",
       "      <td>1.466667</td>\n",
       "    </tr>\n",
       "    <tr>\n",
       "      <th>2</th>\n",
       "      <td>83249</td>\n",
       "      <td>1992-08-01</td>\n",
       "      <td>0</td>\n",
       "      <td>26.6</td>\n",
       "      <td>16.6</td>\n",
       "      <td>2.2</td>\n",
       "      <td>2.7</td>\n",
       "      <td>21.68</td>\n",
       "      <td>93.00</td>\n",
       "      <td>1.600000</td>\n",
       "    </tr>\n",
       "    <tr>\n",
       "      <th>3</th>\n",
       "      <td>83249</td>\n",
       "      <td>1993-02-20</td>\n",
       "      <td>0</td>\n",
       "      <td>34.3</td>\n",
       "      <td>19.4</td>\n",
       "      <td>10.7</td>\n",
       "      <td>5.9</td>\n",
       "      <td>26.34</td>\n",
       "      <td>78.75</td>\n",
       "      <td>2.233333</td>\n",
       "    </tr>\n",
       "    <tr>\n",
       "      <th>4</th>\n",
       "      <td>83249</td>\n",
       "      <td>1998-09-17</td>\n",
       "      <td>0</td>\n",
       "      <td>29.1</td>\n",
       "      <td>20.5</td>\n",
       "      <td>9.6</td>\n",
       "      <td>2.4</td>\n",
       "      <td>23.52</td>\n",
       "      <td>75.50</td>\n",
       "      <td>2.200000</td>\n",
       "    </tr>\n",
       "  </tbody>\n",
       "</table>\n",
       "</div>"
      ],
      "text/plain": [
       "   Estacao        Data  Precipitacao  TempMaxima  TempMinima  Insolacao  \\\n",
       "0    83249  1979-10-25             0        31.0        17.6        8.6   \n",
       "1    83249  1999-08-14             0        28.7        15.9        9.6   \n",
       "2    83249  1992-08-01             0        26.6        16.6        2.2   \n",
       "3    83249  1993-02-20             0        34.3        19.4       10.7   \n",
       "4    83249  1998-09-17             0        29.1        20.5        9.6   \n",
       "\n",
       "   Evaporacao_Piche  Temp_Comp_Media  Umidade_Relativa_Media  \\\n",
       "0               5.5            23.62                   67.50   \n",
       "1               3.6            21.92                   77.25   \n",
       "2               2.7            21.68                   93.00   \n",
       "3               5.9            26.34                   78.75   \n",
       "4               2.4            23.52                   75.50   \n",
       "\n",
       "   Velocidade_do_Vento_Media  \n",
       "0                   3.266667  \n",
       "1                   1.466667  \n",
       "2                   1.600000  \n",
       "3                   2.233333  \n",
       "4                   2.200000  "
      ]
     },
     "execution_count": 6,
     "metadata": {},
     "output_type": "execute_result"
    }
   ],
   "source": [
    "csv_file.head()"
   ]
  },
  {
   "cell_type": "code",
   "execution_count": 26,
   "metadata": {},
   "outputs": [
    {
     "data": {
      "text/plain": [
       "True"
      ]
     },
     "execution_count": 26,
     "metadata": {},
     "output_type": "execute_result"
    }
   ],
   "source": [
    "is_primavera(10, 25)"
   ]
  }
 ],
 "metadata": {
  "kernelspec": {
   "display_name": "Python 3",
   "language": "python",
   "name": "python3"
  },
  "language_info": {
   "codemirror_mode": {
    "name": "ipython",
    "version": 3
   },
   "file_extension": ".py",
   "mimetype": "text/x-python",
   "name": "python",
   "nbconvert_exporter": "python",
   "pygments_lexer": "ipython3",
   "version": "3.6.8"
  }
 },
 "nbformat": 4,
 "nbformat_minor": 2
}
