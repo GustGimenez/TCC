{
 "cells": [
  {
   "cell_type": "markdown",
   "metadata": {},
   "source": [
    "Dummy Varibles\n",
    "========"
   ]
  },
  {
   "cell_type": "code",
   "execution_count": 1,
   "metadata": {},
   "outputs": [],
   "source": [
    "import pandas as pd"
   ]
  },
  {
   "cell_type": "code",
   "execution_count": null,
   "metadata": {},
   "outputs": [],
   "source": [
    "# based on the date informed, returns the correspondent season: 'Outono', 'Inverno', 'Primavera', 'Verão'\n",
    "\n",
    "def wich_season(date):\n",
    "    season = ''\n",
    "    date_info = date.split('/')\n",
    "    \n",
    "    # 20/03 - 21/06 => Outono\n",
    "    # 22/06 - 21/09 => Inverno\n",
    "    # 22/09 - 20/12 => Primavera\n",
    "    # 21/12 - 19/03 => Verão"
   ]
  }
 ],
 "metadata": {
  "kernelspec": {
   "display_name": "Python 3",
   "language": "python",
   "name": "python3"
  },
  "language_info": {
   "codemirror_mode": {
    "name": "ipython",
    "version": 3
   },
   "file_extension": ".py",
   "mimetype": "text/x-python",
   "name": "python",
   "nbconvert_exporter": "python",
   "pygments_lexer": "ipython3",
   "version": "3.6.8"
  }
 },
 "nbformat": 4,
 "nbformat_minor": 2
}
